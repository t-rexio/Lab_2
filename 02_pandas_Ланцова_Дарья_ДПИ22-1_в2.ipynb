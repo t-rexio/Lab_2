{
 "cells": [
  {
   "cell_type": "markdown",
   "metadata": {},
   "source": [
    "# Pandas"
   ]
  },
  {
   "cell_type": "markdown",
   "metadata": {},
   "source": [
    "Материалы:\n",
    "* Макрушин С.В. \"Лекция 2: Библиотека Pandas\"\n",
    "* https://pandas.pydata.org/docs/user_guide/index.html#\n",
    "* https://pandas.pydata.org/docs/reference/index.html\n",
    "* Уэс Маккини. Python и анализ данных"
   ]
  },
  {
   "cell_type": "markdown",
   "metadata": {},
   "source": [
    "## Задачи для совместного разбора"
   ]
  },
  {
   "cell_type": "markdown",
   "metadata": {},
   "source": [
    "1. Загрузите данные из файла `sp500hst.txt` и обозначьте столбцы в соответствии с содержимым: `\"date\", \"ticker\", \"open\", \"high\", \"low\", \"close\", \"volume\"`."
   ]
  },
  {
   "cell_type": "markdown",
   "metadata": {},
   "source": [
    "2. Рассчитайте среднее значение показателей для каждого из столбцов c номерами 3-6."
   ]
  },
  {
   "cell_type": "markdown",
   "metadata": {},
   "source": [
    "3. Добавьте столбец, содержащий только число месяца, к которому относится дата."
   ]
  },
  {
   "cell_type": "markdown",
   "metadata": {},
   "source": [
    "4. Рассчитайте суммарный объем торгов для для одинаковых значений тикеров."
   ]
  },
  {
   "cell_type": "markdown",
   "metadata": {},
   "source": [
    "5. Загрузите данные из файла sp500hst.txt и обозначьте столбцы в соответствии с содержимым: \"date\", \"ticker\", \"open\", \"high\", \"low\", \"close\", \"volume\". Добавьте столбец с расшифровкой названия тикера, используя данные из файла `sp_data2.csv` . В случае нехватки данных об именах тикеров корректно обработать их."
   ]
  },
  {
   "cell_type": "markdown",
   "metadata": {},
   "source": [
    "## Лабораторная работа №2"
   ]
  },
  {
   "cell_type": "code",
   "execution_count": 2,
   "metadata": {},
   "outputs": [],
   "source": [
    "import pandas as pd"
   ]
  },
  {
   "cell_type": "markdown",
   "metadata": {},
   "source": [
    "### Базовые операции с `DataFrame`"
   ]
  },
  {
   "cell_type": "markdown",
   "metadata": {},
   "source": [
    "1.1 В файлах `recipes_sample.csv` и `reviews_sample.csv` находится информация об рецептах блюд и отзывах на эти рецепты соответственно. Загрузите данные из файлов в виде `pd.DataFrame` с названиями `recipes` и `reviews`. Обратите внимание на корректное считывание столбца с индексами в таблице `reviews` (безымянный столбец)."
   ]
  },
  {
   "cell_type": "code",
   "execution_count": 3,
   "metadata": {},
   "outputs": [],
   "source": [
    "recipes = pd.read_csv('data/recipes_sample.csv')\n",
    "reviews = pd.read_csv('data/reviews_sample.csv', index_col=0)"
   ]
  },
  {
   "cell_type": "markdown",
   "metadata": {},
   "source": [
    "1.2 Для каждой из таблиц выведите основные параметры:\n",
    "* количество точек данных (строк);\n",
    "* количество столбцов;\n",
    "* тип данных каждого столбца."
   ]
  },
  {
   "cell_type": "code",
   "execution_count": 4,
   "metadata": {},
   "outputs": [
    {
     "name": "stdout",
     "output_type": "stream",
     "text": [
      "Таблица рецептов\n",
      "Количество строк:  30000\n",
      "Количество столбцов:  8\n",
      "Тип данных:\n",
      " name               object\n",
      "id                  int64\n",
      "minutes             int64\n",
      "contributor_id      int64\n",
      "submitted          object\n",
      "n_steps           float64\n",
      "description        object\n",
      "n_ingredients     float64\n",
      "dtype: object\n",
      "\n",
      "Таблица отзывов\n",
      "Количество строк:  126696\n",
      "Количество столбцов:  5\n",
      "Тип данных:\n",
      " user_id       int64\n",
      "recipe_id     int64\n",
      "date         object\n",
      "rating        int64\n",
      "review       object\n",
      "dtype: object\n"
     ]
    }
   ],
   "source": [
    "# Рецепты\n",
    "print('Таблица рецептов')\n",
    "print('Количество строк: ', recipes.shape[0])\n",
    "print('Количество столбцов: ', recipes.shape[1])\n",
    "print('Тип данных:\\n', recipes.dtypes)\n",
    "\n",
    "print()\n",
    "\n",
    "# Отзывы\n",
    "print('Таблица отзывов')\n",
    "print('Количество строк: ', reviews.shape[0])\n",
    "print('Количество столбцов: ', reviews.shape[1])\n",
    "print('Тип данных:\\n', reviews.dtypes)\n"
   ]
  },
  {
   "cell_type": "markdown",
   "metadata": {},
   "source": [
    "1.3 Исследуйте, в каких столбцах таблиц содержатся пропуски. Посчитайте долю строк, содержащих пропуски, в отношении к общему количеству строк."
   ]
  },
  {
   "cell_type": "code",
   "execution_count": 5,
   "metadata": {},
   "outputs": [
    {
     "name": "stdout",
     "output_type": "stream",
     "text": [
      "Таблица рецептов\n",
      "name - нет пропусков\n",
      "id - нет пропусков\n",
      "minutes - нет пропусков\n",
      "contributor_id - нет пропусков\n",
      "submitted - нет пропусков\n",
      "n_steps - 37.30% пропущенных значений\n",
      "description - 2.08% пропущенных значений\n",
      "n_ingredients - 29.60% пропущенных значений\n",
      "\n",
      "Таблица отзывов\n",
      "user_id - нет пропусков\n",
      "recipe_id - нет пропусков\n",
      "date - нет пропусков\n",
      "rating - нет пропусков\n",
      "review - 0.01% пропущенных значений\n"
     ]
    }
   ],
   "source": [
    "# Рецепты\n",
    "print('Таблица рецептов')\n",
    "for column in recipes.columns:\n",
    "    if recipes[column].isna().sum() > 0:\n",
    "        print(f\"{column} - {recipes[column].isna().mean():.2%} пропущенных значений\")\n",
    "    else:\n",
    "        print(f\"{column} - нет пропусков\")\n",
    "\n",
    "print()\n",
    "\n",
    "# Отзывы\n",
    "print('Таблица отзывов')\n",
    "for column in reviews.columns:\n",
    "    if reviews[column].isna().sum() > 0:\n",
    "        print(f\"{column} - {reviews[column].isna().mean():.2%} пропущенных значений\")\n",
    "    else:\n",
    "        print(f\"{column} - нет пропусков\")"
   ]
  },
  {
   "cell_type": "markdown",
   "metadata": {},
   "source": [
    "1.4 Рассчитайте среднее значение для каждого из числовых столбцов (где это имеет смысл)."
   ]
  },
  {
   "cell_type": "code",
   "execution_count": 6,
   "metadata": {},
   "outputs": [
    {
     "name": "stdout",
     "output_type": "stream",
     "text": [
      "Таблица рецептов:\n",
      "Среднее значение minutes: 123.35813333333333\n",
      "Среднее значение n_steps: 9.805582137161085\n",
      "Среднее значение n_ingredients: 9.008285984848484\n",
      "\n",
      "Таблица отзывов:\n",
      "Среднее значение rating: 4.410802235271832\n"
     ]
    }
   ],
   "source": [
    "# Рецепты:\n",
    "columns_with_num = recipes.select_dtypes(include=['int64', 'float64']).columns.drop(['id', 'contributor_id'])\n",
    "print(\"Таблица рецептов:\")\n",
    "for column in columns_with_num:\n",
    "    print(f\"Среднее значение {column}: {recipes[column].mean()}\")\n",
    "\n",
    "print()\n",
    "\n",
    "# Отзывы:\n",
    "columns_with_num = reviews.select_dtypes(include=['int64', 'float64']).columns.drop(['user_id', 'recipe_id'])\n",
    "print(\"Таблица отзывов:\")\n",
    "for column in columns_with_num:\n",
    "    print(f\"Среднее значение {column}: {reviews[column].mean()}\")"
   ]
  },
  {
   "cell_type": "markdown",
   "metadata": {},
   "source": [
    "1.5 Создайте серию из 10 случайных названий рецептов."
   ]
  },
  {
   "cell_type": "code",
   "execution_count": 7,
   "metadata": {},
   "outputs": [
    {
     "name": "stdout",
     "output_type": "stream",
     "text": [
      "4208                                 buttermilk fudge\n",
      "28547       vanilla scented pear and raspberry relish\n",
      "24978                             southwest egg rolls\n",
      "11363    fresh fish steamed with oranges and tomatoes\n",
      "13569                      heavenly kahlua cheesecake\n",
      "9025                               curried tuna melts\n",
      "25219                                  spiced basmati\n",
      "947      apple sauce  banana and raisin bread pudding\n",
      "5178                    cheese  broccoli  ham chowder\n",
      "27521               the ultimate fish fillet sandwich\n",
      "Name: name, dtype: object\n"
     ]
    }
   ],
   "source": [
    "random_names = recipes['name'].sample(n=10)\n",
    "print(random_names)"
   ]
  },
  {
   "cell_type": "markdown",
   "metadata": {},
   "source": [
    "1.6 Измените индекс в таблице `reviews`, пронумеровав строки, начиная с нуля."
   ]
  },
  {
   "cell_type": "code",
   "execution_count": 8,
   "metadata": {},
   "outputs": [
    {
     "name": "stdout",
     "output_type": "stream",
     "text": [
      "      user_id  recipe_id        date  rating  \\\n",
      "0       21752      57993  2003-05-01       5   \n",
      "1      431813     142201  2007-09-16       5   \n",
      "2      400708     252013  2008-01-10       4   \n",
      "3  2001852463     404716  2017-12-11       5   \n",
      "4       95810     129396  2008-03-14       5   \n",
      "\n",
      "                                              review  \n",
      "0  Last week whole sides of frozen salmon fillet ...  \n",
      "1  So simple and so tasty!  I used a yellow capsi...  \n",
      "2  Very nice breakfast HH, easy to make and yummy...  \n",
      "3  These are a favorite for the holidays and so e...  \n",
      "4  Excellent soup!  The tomato flavor is just gre...  \n"
     ]
    }
   ],
   "source": [
    "reviews = reviews.reset_index(drop=True)\n",
    "print(reviews.head())"
   ]
  },
  {
   "cell_type": "markdown",
   "metadata": {},
   "source": [
    "1.7 Выведите информацию о рецептах, время выполнения которых не больше 20 минут и кол-во ингредиентов в которых не больше 5."
   ]
  },
  {
   "cell_type": "code",
   "execution_count": 9,
   "metadata": {},
   "outputs": [
    {
     "name": "stdout",
     "output_type": "stream",
     "text": [
      "                                                    name  minutes  \\\n",
      "28                                   quick biscuit bread       20   \n",
      "60                         peas  fit for a king or queen       20   \n",
      "90                     hawaiian sunrise           mimosa        5   \n",
      "91            tasty dish s   banana pudding in 2 minutes        2   \n",
      "94                                    1 minute meatballs       13   \n",
      "...                                                  ...      ...   \n",
      "29873  zip and steam red potatoes with butter and garlic       13   \n",
      "29874                          ziplock vanilla ice cream       10   \n",
      "29905                      zucchini and corn with cheese       15   \n",
      "29980               zucchini with jalapeno monterey jack       10   \n",
      "29983                          zucchini with serrano ham       15   \n",
      "\n",
      "       n_ingredients  \n",
      "28               5.0  \n",
      "60               5.0  \n",
      "90               3.0  \n",
      "91               4.0  \n",
      "94               2.0  \n",
      "...              ...  \n",
      "29873            5.0  \n",
      "29874            3.0  \n",
      "29905            5.0  \n",
      "29980            3.0  \n",
      "29983            5.0  \n",
      "\n",
      "[2019 rows x 3 columns]\n"
     ]
    }
   ],
   "source": [
    "fast_recipes = recipes[(recipes['minutes'] <= 20) & (recipes['n_ingredients'] <= 5)]\n",
    "print(fast_recipes[['name', 'minutes', 'n_ingredients']])"
   ]
  },
  {
   "cell_type": "markdown",
   "metadata": {},
   "source": [
    "### Работа с датами в `pandas`"
   ]
  },
  {
   "cell_type": "markdown",
   "metadata": {},
   "source": [
    "2.1 Преобразуйте столбец `submitted` из таблицы `recipes` в формат времени. Модифицируйте решение задачи 1.1 так, чтобы считать столбец сразу в нужном формате."
   ]
  },
  {
   "cell_type": "code",
   "execution_count": 10,
   "metadata": {},
   "outputs": [
    {
     "name": "stdout",
     "output_type": "stream",
     "text": [
      "name                      object\n",
      "id                         int64\n",
      "minutes                    int64\n",
      "contributor_id             int64\n",
      "submitted         datetime64[ns]\n",
      "n_steps                  float64\n",
      "description               object\n",
      "n_ingredients            float64\n",
      "dtype: object\n"
     ]
    }
   ],
   "source": [
    "recipes = pd.read_csv('data/recipes_sample.csv', parse_dates=['submitted'])\n",
    "print(recipes.dtypes)"
   ]
  },
  {
   "cell_type": "markdown",
   "metadata": {},
   "source": [
    "2.2 Выведите информацию о рецептах, добавленных в датасет не позже 2010 года."
   ]
  },
  {
   "cell_type": "code",
   "execution_count": 11,
   "metadata": {},
   "outputs": [
    {
     "name": "stdout",
     "output_type": "stream",
     "text": [
      "                                               name  submitted\n",
      "0             george s at the cove  black bean soup 2002-10-25\n",
      "1                healthy for them  yogurt popsicles 2003-07-26\n",
      "2                      i can t believe it s spinach 2002-08-29\n",
      "3                              italian  gut busters 2002-07-27\n",
      "4          love is in the air  beef fondue   sauces 2004-02-23\n",
      "...                                             ...        ...\n",
      "29993                     zuni caf zucchini pickles 2008-07-31\n",
      "29995  zurie s holey rustic olive and cheddar bread 2007-11-25\n",
      "29996          zwetschgenkuchen  bavarian plum cake 2009-08-24\n",
      "29997   zwiebelkuchen   southwest german onion cake 2004-11-03\n",
      "29999        cookies by design   cookies on a stick 2008-04-15\n",
      "\n",
      "[27661 rows x 2 columns]\n"
     ]
    }
   ],
   "source": [
    "no_later_2010 = recipes[recipes['submitted'].dt.year <= 2010]\n",
    "print(no_later_2010[['name', 'submitted']])"
   ]
  },
  {
   "cell_type": "markdown",
   "metadata": {},
   "source": [
    "### Работа со строковыми данными в `pandas`"
   ]
  },
  {
   "cell_type": "markdown",
   "metadata": {},
   "source": [
    "3.1  Добавьте в таблицу `recipes` столбец `description_length`, в котором хранится длина описания рецепта из столбца `description`."
   ]
  },
  {
   "cell_type": "code",
   "execution_count": 12,
   "metadata": {},
   "outputs": [
    {
     "name": "stdout",
     "output_type": "stream",
     "text": [
      "                                       name     id  minutes  contributor_id  \\\n",
      "0     george s at the cove  black bean soup  44123       90           35193   \n",
      "1        healthy for them  yogurt popsicles  67664       10           91970   \n",
      "2              i can t believe it s spinach  38798       30            1533   \n",
      "3                      italian  gut busters  35173       45           22724   \n",
      "4  love is in the air  beef fondue   sauces  84797       25            4470   \n",
      "\n",
      "   submitted  n_steps                                        description  \\\n",
      "0 2002-10-25      NaN  an original recipe created by chef scott meska...   \n",
      "1 2003-07-26      NaN  my children and their friends ask for my homem...   \n",
      "2 2002-08-29      NaN            these were so go, it surprised even me.   \n",
      "3 2002-07-27      NaN  my sister-in-law made these for us at a family...   \n",
      "4 2004-02-23      4.0  i think a fondue is a very romantic casual din...   \n",
      "\n",
      "   n_ingredients  description_length  \n",
      "0           18.0               330.0  \n",
      "1            NaN               255.0  \n",
      "2            8.0                39.0  \n",
      "3            NaN               154.0  \n",
      "4            NaN               587.0  \n"
     ]
    }
   ],
   "source": [
    "recipes['description_length'] = recipes['description'].str.len()\n",
    "print(recipes.head())"
   ]
  },
  {
   "cell_type": "markdown",
   "metadata": {},
   "source": [
    "3.2 Измените название каждого рецепта в таблице `recipes` таким образом, чтобы каждое слово в названии начиналось с прописной буквы."
   ]
  },
  {
   "cell_type": "code",
   "execution_count": 13,
   "metadata": {},
   "outputs": [
    {
     "name": "stdout",
     "output_type": "stream",
     "text": [
      "                                       name     id  minutes  contributor_id  \\\n",
      "0     George S At The Cove  Black Bean Soup  44123       90           35193   \n",
      "1        Healthy For Them  Yogurt Popsicles  67664       10           91970   \n",
      "2              I Can T Believe It S Spinach  38798       30            1533   \n",
      "3                      Italian  Gut Busters  35173       45           22724   \n",
      "4  Love Is In The Air  Beef Fondue   Sauces  84797       25            4470   \n",
      "\n",
      "   submitted  n_steps                                        description  \\\n",
      "0 2002-10-25      NaN  an original recipe created by chef scott meska...   \n",
      "1 2003-07-26      NaN  my children and their friends ask for my homem...   \n",
      "2 2002-08-29      NaN            these were so go, it surprised even me.   \n",
      "3 2002-07-27      NaN  my sister-in-law made these for us at a family...   \n",
      "4 2004-02-23      4.0  i think a fondue is a very romantic casual din...   \n",
      "\n",
      "   n_ingredients  description_length  \n",
      "0           18.0               330.0  \n",
      "1            NaN               255.0  \n",
      "2            8.0                39.0  \n",
      "3            NaN               154.0  \n",
      "4            NaN               587.0  \n"
     ]
    }
   ],
   "source": [
    "recipes['name'] = recipes['name'].str.title()\n",
    "print(recipes.head())"
   ]
  },
  {
   "cell_type": "markdown",
   "metadata": {},
   "source": [
    "3.3 Добавьте в таблицу `recipes` столбец `name_word_count`, в котором хранится количество слов из названии рецепта (считайте, что слова в названии разделяются только пробелами). Обратите внимание, что между словами может располагаться несколько пробелов подряд."
   ]
  },
  {
   "cell_type": "code",
   "execution_count": 14,
   "metadata": {},
   "outputs": [
    {
     "name": "stdout",
     "output_type": "stream",
     "text": [
      "                                       name     id  minutes  contributor_id  \\\n",
      "0     George S At The Cove  Black Bean Soup  44123       90           35193   \n",
      "1        Healthy For Them  Yogurt Popsicles  67664       10           91970   \n",
      "2              I Can T Believe It S Spinach  38798       30            1533   \n",
      "3                      Italian  Gut Busters  35173       45           22724   \n",
      "4  Love Is In The Air  Beef Fondue   Sauces  84797       25            4470   \n",
      "\n",
      "   submitted  n_steps                                        description  \\\n",
      "0 2002-10-25      NaN  an original recipe created by chef scott meska...   \n",
      "1 2003-07-26      NaN  my children and their friends ask for my homem...   \n",
      "2 2002-08-29      NaN            these were so go, it surprised even me.   \n",
      "3 2002-07-27      NaN  my sister-in-law made these for us at a family...   \n",
      "4 2004-02-23      4.0  i think a fondue is a very romantic casual din...   \n",
      "\n",
      "   n_ingredients  description_length  name_word_count  \n",
      "0           18.0               330.0                8  \n",
      "1            NaN               255.0                5  \n",
      "2            8.0                39.0                7  \n",
      "3            NaN               154.0                3  \n",
      "4            NaN               587.0                8  \n"
     ]
    }
   ],
   "source": [
    "recipes['name_word_count'] = recipes['name'].str.split().str.len()\n",
    "print(recipes.head())"
   ]
  },
  {
   "cell_type": "markdown",
   "metadata": {},
   "source": [
    "### Группировки таблиц `pd.DataFrame`"
   ]
  },
  {
   "cell_type": "markdown",
   "metadata": {},
   "source": [
    "4.1 Посчитайте количество рецептов, представленных каждым из участников (`contributor_id`). Какой участник добавил максимальное кол-во рецептов?"
   ]
  },
  {
   "cell_type": "code",
   "execution_count": 15,
   "metadata": {},
   "outputs": [
    {
     "name": "stdout",
     "output_type": "stream",
     "text": [
      "Количество рецептов, представленных каждым из участников:\n",
      "89831      421\n",
      "37449      346\n",
      "37779      345\n",
      "1533       186\n",
      "169430     183\n",
      "          ... \n",
      "1061628      1\n",
      "1076183      1\n",
      "429061       1\n",
      "64032        1\n",
      "186118       1\n",
      "Name: contributor_id, Length: 8404, dtype: int64\n",
      "Участник 89831 добавил максимальное кол-во рецептов\n"
     ]
    }
   ],
   "source": [
    "num_of_recipes = recipes['contributor_id'].value_counts()\n",
    "max_contributor = num_of_recipes.idxmax()\n",
    "\n",
    "print(\"Количество рецептов, представленных каждым из участников:\")\n",
    "print(num_of_recipes)\n",
    "\n",
    "print(f\"Участник {max_contributor} добавил максимальное кол-во рецептов\")"
   ]
  },
  {
   "cell_type": "markdown",
   "metadata": {},
   "source": [
    "4.2 Посчитайте средний рейтинг к каждому из рецептов. Для скольких рецептов отсутствуют отзывы? Обратите внимание, что отзыв с нулевым рейтингом или не заполненным текстовым описанием не считается отсутствующим."
   ]
  },
  {
   "cell_type": "code",
   "execution_count": 16,
   "metadata": {},
   "outputs": [
    {
     "name": "stdout",
     "output_type": "stream",
     "text": [
      "Средний рейтинг к каждого рецепта:\n",
      "recipe_id\n",
      "48        1.000000\n",
      "55        4.750000\n",
      "66        4.944444\n",
      "91        4.750000\n",
      "94        5.000000\n",
      "            ...   \n",
      "536547    5.000000\n",
      "536610    0.000000\n",
      "536728    4.000000\n",
      "536729    4.750000\n",
      "536747    0.000000\n",
      "Name: rating, Length: 28100, dtype: float64\n",
      "Отсутствуют отзывы у 1900 рецептов\n"
     ]
    }
   ],
   "source": [
    "mean_rat = reviews.groupby('recipe_id')['rating'].mean()\n",
    "missing_reviews = recipes['id'].nunique() - mean_rat.count()\n",
    "\n",
    "print(\"Средний рейтинг к каждого рецепта:\")\n",
    "print(mean_rat)\n",
    "print(f\"Отсутствуют отзывы у {missing_reviews} рецептов\")"
   ]
  },
  {
   "cell_type": "markdown",
   "metadata": {},
   "source": [
    "4.3 Посчитайте количество рецептов с разбивкой по годам создания."
   ]
  },
  {
   "cell_type": "code",
   "execution_count": 18,
   "metadata": {},
   "outputs": [
    {
     "name": "stdout",
     "output_type": "stream",
     "text": [
      "Количество рецептов по годам создания:\n",
      "submitted\n",
      "1999     275\n",
      "2000     104\n",
      "2001     589\n",
      "2002    2644\n",
      "2003    2334\n",
      "2004    2153\n",
      "2005    3130\n",
      "2006    3473\n",
      "2007    4429\n",
      "2008    4029\n",
      "2009    2963\n",
      "2010    1538\n",
      "2011     922\n",
      "2012     659\n",
      "2013     490\n",
      "2014     139\n",
      "2015      42\n",
      "2016      24\n",
      "2017      39\n",
      "2018      24\n",
      "dtype: int64\n"
     ]
    }
   ],
   "source": [
    "recipes_num_by_year = recipes.groupby(recipes['submitted'].dt.year).size()\n",
    "print(\"Количество рецептов по годам создания:\")\n",
    "print(recipes_num_by_year)"
   ]
  },
  {
   "cell_type": "markdown",
   "metadata": {},
   "source": [
    "### Объединение таблиц `pd.DataFrame`"
   ]
  },
  {
   "cell_type": "markdown",
   "metadata": {},
   "source": [
    "5.1 При помощи объединения таблиц, создайте `DataFrame`, состоящий из четырех столбцов: `id`, `name`, `user_id`, `rating`. Рецепты, на которые не оставлен ни один отзыв, должны отсутствовать в полученной таблице. Подтвердите правильность работы вашего кода, выбрав рецепт, не имеющий отзывов, и попытавшись найти строку, соответствующую этому рецепту, в полученном `DataFrame`."
   ]
  },
  {
   "cell_type": "code",
   "execution_count": 40,
   "metadata": {},
   "outputs": [
    {
     "name": "stdout",
     "output_type": "stream",
     "text": [
      "            id                                    name  user_id  rating\n",
      "0        44123   George S At The Cove  Black Bean Soup   743566       5\n",
      "1        44123   George S At The Cove  Black Bean Soup    76503       5\n",
      "2        44123   George S At The Cove  Black Bean Soup    34206       5\n",
      "3        67664      Healthy For Them  Yogurt Popsicles   494084       5\n",
      "4        67664      Healthy For Them  Yogurt Popsicles   303445       5\n",
      "...        ...                                     ...      ...     ...\n",
      "126691  486161                             Zydeco Soup   305531       5\n",
      "126692  486161                             Zydeco Soup  1271506       5\n",
      "126693  486161                             Zydeco Soup   724631       5\n",
      "126694  486161                             Zydeco Soup   133174       5\n",
      "126695  298512  Cookies By Design   Cookies On A Stick   804234       1\n",
      "\n",
      "[126696 rows x 4 columns]\n",
      "\n",
      "Проверка:\n",
      "Empty DataFrame\n",
      "Columns: [id, name, user_id, rating]\n",
      "Index: []\n"
     ]
    }
   ],
   "source": [
    "merged_table_1 = pd.merge(recipes[['id', 'name']], reviews[['recipe_id', 'user_id', 'rating']], left_on='id', right_on='recipe_id')\n",
    "merged_table_1.drop('recipe_id', axis=1, inplace=True)\n",
    "print(merged_table_1)\n",
    "\n",
    "print()\n",
    "\n",
    "print('Проверка:')\n",
    "print(merged_table_1[merged_table_1['id'] == 2691])"
   ]
  },
  {
   "cell_type": "markdown",
   "metadata": {},
   "source": [
    "5.2 При помощи объединения таблиц и группировок, создайте `DataFrame`, состоящий из трех столбцов: `recipe_id`, `name`, `review_count`, где столбец `review_count` содержит кол-во отзывов, оставленных на рецепт `recipe_id`. У рецептов, на которые не оставлен ни один отзыв, в столбце `review_count` должен быть указан 0. Подтвердите правильность работы вашего кода, выбрав рецепт, не имеющий отзывов, и найдя строку, соответствующую этому рецепту, в полученном `DataFrame`."
   ]
  },
  {
   "cell_type": "code",
   "execution_count": 50,
   "metadata": {},
   "outputs": [
    {
     "name": "stdout",
     "output_type": "stream",
     "text": [
      "           id                                        name  review_count\n",
      "0          48                            Boston Cream Pie             2\n",
      "1          55  Betty Crocker S Southwestern Guacamole Dip             4\n",
      "2          66                 Black Coffee Barbecue Sauce            18\n",
      "3          91              Brown Rice And Vegetable Pilaf             4\n",
      "4          94                       Blueberry Buttertarts             4\n",
      "...       ...                                         ...           ...\n",
      "29995  536547                         Cauliflower Ceviche             1\n",
      "29996  536610               Miracle Home Made Puff Pastry             1\n",
      "29997  536728                       Gluten Free  Vegemite             1\n",
      "29998  536729                Creole Watermelon Feta Salad             4\n",
      "29999  536747                          Lemon Pom Pom Cake             4\n",
      "\n",
      "[30000 rows x 3 columns]\n",
      "Проверка:\n",
      "      id                       name  review_count\n",
      "97  2691  Lamb Chops With Mandarins             0\n"
     ]
    }
   ],
   "source": [
    "merged_table_2 = pd.merge(recipes[['id', 'name']], reviews[['recipe_id']], left_on='id', right_on='recipe_id', how='left')\n",
    "merged_table_2 = merged_table_2.groupby(['id', 'name']).agg(review_count=('recipe_id', 'count')).reset_index()\n",
    "merged_table_2['review_count'] = merged_table_2['review_count'].fillna(0)\n",
    "\n",
    "\n",
    "print(merged_table_2[['id', 'name', 'review_count']])\n",
    "\n",
    "\n",
    "print('Проверка:')\n",
    "print(merged_table_2[merged_table_2['id'] == 2691])"
   ]
  },
  {
   "cell_type": "markdown",
   "metadata": {},
   "source": [
    "5.3. Выясните, рецепты, добавленные в каком году, имеют наименьший средний рейтинг?"
   ]
  },
  {
   "cell_type": "code",
   "execution_count": 81,
   "metadata": {},
   "outputs": [
    {
     "name": "stdout",
     "output_type": "stream",
     "text": [
      "Рецепты добавленные в 2017 году имеют наименьший средний рейтинг\n"
     ]
    }
   ],
   "source": [
    "merged = pd.merge(recipes[['id', 'name', 'submitted']], reviews[['recipe_id', 'rating']], left_on='id', right_on='recipe_id')\n",
    "grouped = merged.groupby([merged['submitted'].dt.year]).agg({'rating': 'mean'}).sort_values('rating').reset_index()\n",
    "\n",
    "lowest_rating = grouped.iloc[0]\n",
    "\n",
    "print(f\"Рецепты добавленные в {lowest_rating['submitted'].astype(int)} году имеют наименьший средний рейтинг\")"
   ]
  },
  {
   "cell_type": "markdown",
   "metadata": {},
   "source": [
    "### Сохранение таблиц `pd.DataFrame`"
   ]
  },
  {
   "cell_type": "markdown",
   "metadata": {},
   "source": [
    "6.1 Отсортируйте таблицу в порядке убывания величины столбца `name_word_count` и сохраните результаты выполнения заданий 3.1-3.3 в csv файл. "
   ]
  },
  {
   "cell_type": "code",
   "execution_count": 82,
   "metadata": {},
   "outputs": [],
   "source": [
    "recipes_sorted = recipes.sort_values('name_word_count', ascending=False)\n",
    "recipes_sorted.to_csv('sorted_recipes.csv', index=False)"
   ]
  },
  {
   "cell_type": "markdown",
   "metadata": {},
   "source": [
    "6.2 Воспользовавшись `pd.ExcelWriter`, cохраните результаты 5.1 и 5.2 в файл: на лист с названием `Рецепты с оценками` сохраните результаты выполнения 5.1; на лист с названием `Количество отзывов по рецептам` сохраните результаты выполнения 5.2."
   ]
  },
  {
   "cell_type": "code",
   "execution_count": 83,
   "metadata": {},
   "outputs": [],
   "source": [
    "import pandas as pd\n",
    "\n",
    "result_file = pd.ExcelWriter('recipes_and_num_reviews.xlsx')\n",
    "\n",
    "merged_table_1.to_excel(result_file, sheet_name='Рецепты с оценками', index=False)\n",
    "merged_table_2.to_excel(result_file, sheet_name='Количество отзывов по рецептам', index=False)\n",
    "\n",
    "result_file.save()"
   ]
  },
  {
   "cell_type": "markdown",
   "metadata": {},
   "source": [
    "#### [версия 2]\n",
    "* Уточнены формулировки задач 1.1, 3.3, 4.2, 5.1, 5.2, 5.3"
   ]
  }
 ],
 "metadata": {
  "kernelspec": {
   "display_name": "Python 3 (ipykernel)",
   "language": "python",
   "name": "python3"
  },
  "language_info": {
   "codemirror_mode": {
    "name": "ipython",
    "version": 3
   },
   "file_extension": ".py",
   "mimetype": "text/x-python",
   "name": "python",
   "nbconvert_exporter": "python",
   "pygments_lexer": "ipython3",
   "version": "3.9.12"
  }
 },
 "nbformat": 4,
 "nbformat_minor": 4
}
